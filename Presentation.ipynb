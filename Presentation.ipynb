{
 "cells": [
  {
   "cell_type": "markdown",
   "metadata": {
    "slideshow": {
     "slide_type": "notes"
    }
   },
   "source": [
    "### IMPORTANT NOTE:\n",
    "\n",
    "Binder does not recognize custom css files. To apply the stylesheet to the slides, execute the following code to manually load the style and proceed with the presentation as usual."
   ]
  },
  {
   "cell_type": "code",
   "execution_count": null,
   "metadata": {
    "slideshow": {
     "slide_type": "skip"
    }
   },
   "outputs": [],
   "source": [
    "%%html\n",
    "<style>\n",
    ".reveal {\n",
    "background: white;\n",
    "}\n",
    "\n",
    ".rise-enabled #notebook-container {\n",
    "\n",
    "    width: 100% !important;\n",
    "}\n",
    "\n",
    "div.cell {\n",
    "padding: 0;\n",
    "}\n",
    "\n",
    ".rise-enabled .text_cell {\n",
    "    margin: -1px;\n",
    "}\n",
    "\n",
    ".rise-enabled.ctb_global_show .ctb_show ~ .text_cell_render,  rise-enabled.ctb_global_show .ctb_show ~ .text_cell_render {\n",
    "    padding-left: 7%;\n",
    "    padding-right: 7%;\n",
    "}\n",
    "\n",
    "div.input {\n",
    "    padding-left: 5%;\n",
    "    padding-right: 5%;\n",
    "    padding-bottom: 0.5em;\n",
    "    padding-top: 0.5em;\n",
    "}\n",
    "\n",
    "div.output_wrapper {\n",
    "    padding-left: 5%;\n",
    "    padding-right: 5%;\n",
    "    padding-top: 0.25em;\n",
    "    padding-bottom: 0.25em;\n",
    "}\n",
    "\n",
    ".reveal .slides > section.present {\n",
    "height: 100%;\n",
    "}\n",
    "\n",
    ".reveal .slides > section.stack {\n",
    "\n",
    "    overflow: scroll;\n",
    "}\n",
    "\n",
    "\n",
    ".rise-enabled #exit_b, .rise-enabled #help_b, .rise-enabled .reveal .controls, .rise-enabled .reveal .slide-number {\n",
    "    opacity: 0.1;\n",
    "}\n",
    "\n",
    ".reveal div.slides {\n",
    "    width: 90% !important;\n",
    "    padding-left: 5% !important;\n",
    "    padding-right: 5% !important;\n",
    "    margin-top:0 !important;\n",
    "}\n",
    "\n",
    ".reveal .slides section {\n",
    "\n",
    "    position: absolute !important;\n",
    "    left: 0px !important;\n",
    "    width: 90%;\n",
    "    top: 0px !important;\n",
    "    margin-left: 5%;\n",
    "    margin-right: 5%;\n",
    "    padding-bottom: 20px;\n",
    "    padding-top: 0px !important;\n",
    "    padding-left: 0px;\n",
    "    padding-right: 0px;\n",
    "\n",
    "}\n",
    "\n",
    ".reveal h1{\n",
    "    text-align: center !important;\n",
    "    padding-left: 3% !important;\n",
    "    padding-top: 5% !important;\n",
    "    padding-bottom: 5% !important;\n",
    "    padding-right: 3% !important;\n",
    "    margin-top: 10%;\n",
    "    margin-bottom: 7%;\n",
    "    text-transform: uppercase;\n",
    "    font-size: 2em;\n",
    "    border-radius: 25px;\n",
    "    color: white;\n",
    "    text-align: center;\n",
    "    background: #223d71;\n",
    "}\n",
    "\n",
    ".reveal h1.title {\n",
    "    text-align: center !important;\n",
    "    padding-left: 3% !important;\n",
    "    padding-top: 5% !important;\n",
    "    padding-bottom: 5% !important;\n",
    "    padding-right: 3% !important;\n",
    "    margin-left: 10% !important;\n",
    "    margin-top: 6%;\n",
    "    width: 80% !important;\n",
    "    text-transform: uppercase;\n",
    "    font-size: 2em;\n",
    "    border-radius: 25px;\n",
    "}\n",
    "\n",
    ".reveal p.author, .reveal p.date {\n",
    "    text-align: center;\n",
    "}\n",
    "\n",
    ".reveal .controls {\n",
    "    color: #223d7114\n",
    "}\n",
    "\n",
    ".reveal h2 {\n",
    "    margin-top: 0 !important;\n",
    "    background: #223d71;\n",
    "    margin-left: -16%;\n",
    "    margin-right: 0;\n",
    "    margin-bottom: 4%;\n",
    "    margin-top: -2% !important;\n",
    "    width: 125% !important;\n",
    "    font-size: 1.77em;\n",
    "    padding-bottom: 2%;\n",
    "    padding-top: 2%;\n",
    "    color: white;\n",
    "    text-align: left;\n",
    "    padding-left: 16%;\n",
    "}\n",
    "\n",
    ".reveal h3 {\n",
    "\n",
    "    text-align: center;\n",
    "    font-family: serif;\n",
    "    font-weight: normal !important;\n",
    "}\n",
    "}\n",
    "\n",
    "\n",
    ".reveal li,\n",
    ".reveal p {\n",
    "font-size: 1em;\n",
    "padding-top: 30px;\n",
    "font-family: serif;\n",
    "}\n",
    "\n",
    ".reveal li li {\n",
    "font-size: 1em;\n",
    "}\n",
    "\n",
    ".reveal p {\n",
    "text-align: justify;\n",
    "font-family: serif;\n",
    "padding-bottom: 0.5em;\n",
    "line-height: initial;\n",
    "}\n",
    "\n",
    ".reveal p img, .reveal p video {\n",
    "    margin-left: auto;\n",
    "    margin-right: auto;\n",
    "    display: block;\n",
    "    max-height: 350px;\n",
    "}\n",
    "\n",
    ".reveal li {\n",
    "list-style-position: inside;\n",
    "display: list-item;\n",
    "font-family: serif;\n",
    "margin: 0 0 30px 0;\n",
    "}\n",
    "\n",
    ".reveal ol, .reveal ul {\n",
    "    display: inline-block;\n",
    "    text-align: left;\n",
    "    margin: 0 0 0 1em;\n",
    "    font-family: serif;\n",
    "    }\n",
    "\n",
    ".reveal ul ul, .reveal ul ol, .reveal ol ol, .reveal ol ul {\n",
    "    display: block;\n",
    "    margin-left: 40px;\n",
    "    list-style-type: square;\n",
    "    font-family: serif;\n",
    "    margin-top: 30px;\n",
    "}\n",
    "\n",
    ".reveal video {\n",
    "    margin-top: 30px;\n",
    "    max-height: 350px;\n",
    "}\n",
    "\n",
    ".reveal.overview {\n",
    "top: 0%;\n",
    "left: 0%;\n",
    "}\n",
    "\n",
    ".reveal .slides section {\n",
    "/* height: 100%; */\n",
    "width: 100% !important;\n",
    "padding-left: 0;\n",
    "margin-left: 0;\n",
    "}\n",
    "\n",
    ".reveal .progress {\n",
    "    height: 5px;\n",
    "    background-color: rgba(0, 128, 128, 0.1);\n",
    "}\n",
    "\n",
    ".rise-enabled .reveal .progress span {\n",
    "    background: #223d71;\n",
    "}\n",
    "\n",
    ".reveal td  {\n",
    "  font-size: 25px\n",
    "}\n",
    ".reveal th {\n",
    "  font-size: 25px\n",
    "}\n",
    "</style>"
   ]
  },
  {
   "cell_type": "markdown",
   "metadata": {
    "slideshow": {
     "slide_type": "slide"
    }
   },
   "source": [
    "<h1><center>A Kenzo Interface for Algebraic Topology Computations in SageMath</center></h1>\n",
    "<br>\n",
    "<p>\n",
    "<center><img src=\"header.gif\"></center>\n",
    "</p>\n",
    "<h3><center>Julián Cuevas, <b>Jose Divasón</b>, Miguel Marco-Buzunáriz and Ana Romero</center></h3>\n",
    "<h4><center>University of La Rioja, Spain</center></h4>\n",
    "<br>\n",
    "<br>\n",
    "<center>Software demonstration session - Beijing 2019</center>"
   ]
  },
  {
   "cell_type": "markdown",
   "metadata": {
    "slideshow": {
     "slide_type": "slide"
    }
   },
   "source": [
    "<center><h1>This is a work in progress!!</h1></center>"
   ]
  },
  {
   "cell_type": "markdown",
   "metadata": {
    "slideshow": {
     "slide_type": "slide"
    }
   },
   "source": [
    "## What is Kenzo?\n",
    "\n",
    "* Kenzo is a Symbolic Computation system for Constructive Algebraic Topology\n",
    "* Developed by Francis Sergeraert\n",
    "* The first version was launched in 1990 (it was called EAT)\n",
    "* Written in Common Lisp"
   ]
  },
  {
   "cell_type": "markdown",
   "metadata": {
    "slideshow": {
     "slide_type": "slide"
    }
   },
   "source": [
    "## What is Kenzo?\n",
    "\n",
    "* It has made it possible to determine homology and homotopy groups of complicated spaces"
   ]
  },
  {
   "cell_type": "markdown",
   "metadata": {
    "slideshow": {
     "slide_type": "fragment"
    }
   },
   "source": [
    "\n",
    "<center>Example:</center>\n",
    "\n",
    "$$X=\\Omega(\\Omega(\\Omega(P^\\infty\\mathbb{R}/P^3\\mathbb{R})\\cup_4D^4)\\cup_2D^2)$$\n",
    "\n",
    "\\begin{equation*}\n",
    "\\begin{aligned}\n",
    "H_5 (X) & = (\\mathbb{Z}/2)^{23} \\oplus \\mathbb{Z}/{8} \\oplus \\mathbb{Z}/{16} \\\\\n",
    "H_6(X) & = (\\mathbb{Z}/2)^{52} \\oplus (\\mathbb{Z}/4)^3 \\oplus \\mathbb{Z}^3 \\\\\n",
    "H_7(X) & = (\\mathbb{Z}/2)^{113} \\oplus \\mathbb{Z}/4 \\oplus (\\mathbb{Z}/8)^3 \\oplus \\mathbb{Z}/{16} \\oplus \\mathbb{Z}/{32} \\oplus \\mathbb{Z}\n",
    "\\end{aligned}\n",
    "\\end{equation*}"
   ]
  },
  {
   "cell_type": "markdown",
   "metadata": {
    "slideshow": {
     "slide_type": "fragment"
    }
   },
   "source": [
    "- <span style=\"color:rgb(255, 0, 0);\">X is complicated</span>"
   ]
  },
  {
   "cell_type": "markdown",
   "metadata": {
    "slideshow": {
     "slide_type": "fragment"
    }
   },
   "source": [
    "- <span style=\"color:rgb(255, 0, 0);\">Indeed X is not of finite type</span>"
   ]
  },
  {
   "cell_type": "markdown",
   "metadata": {
    "slideshow": {
     "slide_type": "slide"
    }
   },
   "source": [
    "## What is Kenzo?\n",
    "- The Kenzo program can deal with infinite objects are coded by means of functional programming\n",
    "- Indeed, it is the only program that permits computations in algebraic topology over (some kind of) infinite structures\n",
    "\n",
    "#### How does Kenzo compute the homology groups of an infinite simplicial set functionally coded?\n",
    "\n",
    "$\\longrightarrow$ Via a technique called *Effective Homology*\n",
    "\n",
    "#### How are homotopy groups computed?\n",
    "\n",
    "$\\longrightarrow$ Via the *Whitehead tower method*\n"
   ]
  },
  {
   "cell_type": "markdown",
   "metadata": {
    "slideshow": {
     "slide_type": "slide"
    }
   },
   "source": [
    "## Problem"
   ]
  },
  {
   "cell_type": "markdown",
   "metadata": {
    "slideshow": {
     "slide_type": "fragment"
    }
   },
   "source": [
    "### Many people do not know the capabilities of the Kenzo system"
   ]
  },
  {
   "cell_type": "markdown",
   "metadata": {
    "slideshow": {
     "slide_type": "fragment"
    }
   },
   "source": [
    "### Indeed, many people do not know the existence of this program\n",
    "\n",
    "<br>\n",
    "<br>"
   ]
  },
  {
   "cell_type": "markdown",
   "metadata": {
    "slideshow": {
     "slide_type": "fragment"
    }
   },
   "source": [
    "## Solution\n",
    "\n",
    "### We aim to integrate (a significant subset of) Kenzo in SageMath\n",
    "\n",
    "### This would increase the features of SageMath when dealing with some infinite structures in algebraic topology"
   ]
  },
  {
   "cell_type": "markdown",
   "metadata": {
    "slideshow": {
     "slide_type": "slide"
    }
   },
   "source": [
    "## SageMath and Algebraic Topology\n",
    "\n",
    "SageMath already includes modules for: \n",
    "\n",
    "   - simplicial complexes\n",
    "   - ∆-complexes\n",
    "   - cubical complexes\n",
    "   - simplicial sets\n",
    "   - other topological objects of different nature, such as knots and braids\n",
    "   \n",
    "It can compute invariants such as the homology of these objects, both by using custom written code and by leveraging an interface to CHomP (a \"Computation Homology Program\")"
   ]
  },
  {
   "cell_type": "markdown",
   "metadata": {
    "slideshow": {
     "slide_type": "fragment"
    }
   },
   "source": [
    "**Sadly, for the moment SageMath only supports objects of finite type**"
   ]
  },
  {
   "cell_type": "markdown",
   "metadata": {
    "slideshow": {
     "slide_type": "slide"
    }
   },
   "source": [
    "## Our work, more concretely\n",
    "\n",
    "\n",
    "An optional Kenzo package for SageMath and an interface between SageMath and Kenzo\n",
    "\n",
    "The main advantage is that Kenzo can deal with general simplicial sets\n",
    "\n",
    "---\n",
    "\n",
    "Features: \n",
    "\n",
    "1. It allows to install and use Kenzo within SageMath, making it easy to use Kenzo as part of a wider workflow\n",
    "2. This interface is a first step towards an extension of SageMath capabilities around simplicial sets"
   ]
  },
  {
   "cell_type": "markdown",
   "metadata": {
    "slideshow": {
     "slide_type": "slide"
    }
   },
   "source": [
    "## Examples of computations in SageMath via Kenzo\n",
    "\n",
    "We can install the Kenzo optional package in SageMath by running:\n",
    "\n",
    "```\n",
    "sage -i kenzo\n",
    "```"
   ]
  },
  {
   "cell_type": "markdown",
   "metadata": {
    "slideshow": {
     "slide_type": "fragment"
    }
   },
   "source": [
    "Then, we can carry out computations in SageMath via Kenzo:"
   ]
  },
  {
   "cell_type": "code",
   "execution_count": null,
   "metadata": {
    "slideshow": {
     "slide_type": "fragment"
    }
   },
   "outputs": [],
   "source": [
    "from sage.interfaces.kenzo import EilenbergMacLaneSpace\n",
    "E1 = EilenbergMacLaneSpace(ZZ, 3)\n",
    "E2 = EilenbergMacLaneSpace(AdditiveAbelianGroup([2]),2)\n",
    "E = E1.cartesian_product(E2)\n",
    "[E.homology(i) for i in range(8)]"
   ]
  },
  {
   "cell_type": "markdown",
   "metadata": {
    "slideshow": {
     "slide_type": "fragment"
    }
   },
   "source": [
    "**Let us observe that the space E is of infinite nature, but Kenzo is able to compute its homology groups**"
   ]
  },
  {
   "cell_type": "markdown",
   "metadata": {
    "slideshow": {
     "slide_type": "slide"
    }
   },
   "source": [
    "In particular, the interface exposes functions to create the following spaces:\n",
    "* Spheres\n",
    "* Eilenberg–MacLane spaces\n",
    "* Moore spaces\n",
    "\n",
    "From these spaces, it allows the following constructions:\n",
    "\n",
    "* Cartesian products\n",
    "* Classifying spaces\n",
    "* Loop spaces\n",
    "* Suspensions\n",
    "* Tensor products\n",
    "\n",
    "We can construct the corresponding homology groups via the ``homology()`` method"
   ]
  },
  {
   "cell_type": "markdown",
   "metadata": {
    "slideshow": {
     "slide_type": "slide"
    }
   },
   "source": [
    "## Examples of computations involving both systems\n",
    "\n",
    "This example shows how to compute the homology of the loop space of a wedge of the spheres $S^3$ and $S^4$"
   ]
  },
  {
   "cell_type": "code",
   "execution_count": null,
   "metadata": {
    "slideshow": {
     "slide_type": "fragment"
    }
   },
   "outputs": [],
   "source": [
    "from sage.homology.simplicial_set import *\n",
    "from sage.interfaces.kenzo import *\n",
    "s3 = simplicial_sets.Sphere(3)\n",
    "s4 = simplicial_sets.Sphere(4)\n",
    "s3vs4 = s3.wedge(s4)\n",
    "K = KFiniteSimplicialSet(s3vs4)\n",
    "loop_K = K.loop_space()\n",
    "[loop_K.homology(i) for i in range(2,8)]"
   ]
  },
  {
   "cell_type": "markdown",
   "metadata": {
    "slideshow": {
     "slide_type": "fragment"
    }
   },
   "source": [
    "#### Note that:\n",
    "    \n",
    "* The wedge product of the spheres is computed by means of a function that is available in SageMath (but not in Kenzo)\n",
    "* The loop space is built in Kenzo (it is an infinite object)\n",
    "* The computation of the homology is carried out via Kenzo (SageMath cannot deal with that computation)"
   ]
  },
  {
   "cell_type": "markdown",
   "metadata": {
    "slideshow": {
     "slide_type": "slide"
    }
   },
   "source": [
    "## Computation of homotopy groups\n",
    "\n",
    "This example shows how to compute the homotopy groups of the sphere $S^3$"
   ]
  },
  {
   "cell_type": "markdown",
   "metadata": {
    "slideshow": {
     "slide_type": "notes"
    }
   },
   "source": [
    "Recordar que los grupos de homotopía de una esfera son conocidos pero difíciles de calcular"
   ]
  },
  {
   "cell_type": "code",
   "execution_count": null,
   "metadata": {
    "scrolled": true,
    "slideshow": {
     "slide_type": "fragment"
    }
   },
   "outputs": [],
   "source": [
    "from sage.interfaces.kenzo import *\n",
    "S3 = Sphere(3)\n",
    "[S3.homotopy_group(i) for i in range(2,7)]"
   ]
  },
  {
   "cell_type": "markdown",
   "metadata": {
    "slideshow": {
     "slide_type": "fragment"
    }
   },
   "source": [
    "The homotopy groups of a wedge of the spheres $S^3$ and $S^4$"
   ]
  },
  {
   "cell_type": "markdown",
   "metadata": {
    "slideshow": {
     "slide_type": "notes"
    }
   },
   "source": [
    "Decir que K es el wedge de antes"
   ]
  },
  {
   "cell_type": "code",
   "execution_count": null,
   "metadata": {
    "slideshow": {
     "slide_type": "fragment"
    }
   },
   "outputs": [],
   "source": [
    " [K.homotopy_group(i) for i in range(2,6)]"
   ]
  },
  {
   "cell_type": "markdown",
   "metadata": {
    "slideshow": {
     "slide_type": "slide"
    }
   },
   "source": [
    "## Conclusions\n",
    "\n",
    "We have presented an interface between SageMath and Kenzo together with an optional Kenzo package\n",
    "\n",
    "The first version includes some basic functionalities of algebraic topology computations and extends SageMath \n",
    "capabilites to deal with infinite objects\n",
    "\n",
    "We developed wrappers of functions, so that the computations can be carried out in Kenzo and the result returned as a SageMath object"
   ]
  },
  {
   "cell_type": "markdown",
   "metadata": {
    "slideshow": {
     "slide_type": "slide"
    }
   },
   "source": [
    "## On-going work\n",
    "\n",
    "* Integration of the extended modules of Kenzo in SageMath\n",
    "* Spectral sequences, discrete vector fields and finite topological spaces\n",
    "* This requires to adapt the Kenzo Common Lisp code to the Embeddable Common Lisp library\n",
    "* Develop the corresponding wrappers and necessary functions\n",
    "\n",
    "### Trac in the SageMath Development Organization Page\n",
    "\n",
    "https://trac.sagemath.org/ticket/27880"
   ]
  },
  {
   "cell_type": "markdown",
   "metadata": {
    "slideshow": {
     "slide_type": "notes"
    }
   },
   "source": [
    "Con Firefox, si pulsamos en el link del trac lo podemos ver, y luego para volver a la presentación desde el teclado\n",
    "solo hay que hacer CTRL + MAYUS + TAB (volver a la pestaña anterior). De esta forma parece que tampoco has salido de la\n",
    "presentación porque todo seguirá a pantalla completa."
   ]
  },
  {
   "cell_type": "markdown",
   "metadata": {
    "slideshow": {
     "slide_type": "slide"
    }
   },
   "source": [
    "<center><h1>Thanks</h1></center>"
   ]
  },
  {
   "cell_type": "markdown",
   "metadata": {
    "slideshow": {
     "slide_type": "slide"
    }
   },
   "source": [
    "## What is effective homology?\n",
    "\n",
    "\n",
    "- If a topological space $X$ has finite nature, then its homology groups can be determined by means of elementary operations on matrices\n",
    "- If $X$ is of infinite type, then Kenzo should be able to find a homotopy equivalence between a chain complex canonically associated with $X$, $C_∗(X)$, and a chain complex $E_∗$ of finite type, whose homology groups can be determined\n",
    "    - This particular homotopy equivalence (which must satisfy some special properties) makes it possible to determine the homology groups of $X$ by means of those of $E_∗$ \n",
    "    - It also permits to compute their generators\n"
   ]
  },
  {
   "cell_type": "markdown",
   "metadata": {
    "slideshow": {
     "slide_type": "slide"
    }
   },
   "source": [
    "## Computation of homotopy groups\n",
    "\n",
    "Let $X$ be a $1$-reduced simplicial set. In order to compute its homotopy groups, Kenzo uses the *Whitehead tower method*, which consists in constructing a tower of fibrations:"
   ]
  },
  {
   "cell_type": "markdown",
   "metadata": {
    "slideshow": {
     "slide_type": "fragment"
    }
   },
   "source": [
    "<center><img src=\"Whitehead_tower_method.png\" height=\"28%\" width=\"28%\"></center>"
   ]
  },
  {
   "cell_type": "markdown",
   "metadata": {
    "slideshow": {
     "slide_type": "fragment"
    }
   },
   "source": [
    "\n",
    "such that each $X_n$ is $(n-1)$-reduced and $X_n$ satisfies $\\pi_n(X_n)\\cong H_n(X_n) \\cong \\pi_n(X)$\n",
    "\n",
    "In this way, one can determine the homotopy group $\\pi_n(X)$ as the homology group $H_n(X_n)$. If the space $X_n$ is not of finite type, the effective homology method is used\n",
    "    "
   ]
  },
  {
   "cell_type": "markdown",
   "metadata": {
    "slideshow": {
     "slide_type": "slide"
    }
   },
   "source": [
    "# About this presentation\n",
    "\n",
    "Combination of:\n",
    "\n",
    "- SageMath\n",
    "- Kenzo\n",
    "- Jupyter\n",
    "- RISE\n",
    "- CSS\n",
    "- Binder"
   ]
  }
 ],
 "metadata": {
  "celltoolbar": "Slideshow",
  "kernelspec": {
   "display_name": "SageMath 8.8.beta7",
   "language": "sage",
   "name": "sagemath"
  },
  "language_info": {
   "codemirror_mode": {
    "name": "ipython",
    "version": 2
   },
   "file_extension": ".py",
   "mimetype": "text/x-python",
   "name": "python",
   "nbconvert_exporter": "python",
   "pygments_lexer": "ipython2",
   "version": "2.7.15"
  }
 },
 "nbformat": 4,
 "nbformat_minor": 2
}
